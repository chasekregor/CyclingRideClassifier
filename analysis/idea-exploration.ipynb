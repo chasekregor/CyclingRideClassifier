{
 "cells": [
  {
   "cell_type": "markdown",
   "metadata": {},
   "source": []
  },
  {
   "cell_type": "markdown",
   "metadata": {},
   "source": [
    "## Machine Learning Cycling Ride Classifier"
   ]
  },
  {
   "cell_type": "code",
   "execution_count": 39,
   "metadata": {},
   "outputs": [],
   "source": [
    "import pandas as pd\n",
    "import altair as alt\n",
    "import numpy as np\n",
    "from stravalib import unithelper\n",
    "from stravalib import Client\n",
    "from conf.credentials import *\n",
    "from sklearn.ensemble import RandomForestClassifier\n",
    "import numpy as np\n",
    "from sklearn.model_selection import train_test_split\n",
    "from scipy.io import arff\n",
    "import pandas as pd"
   ]
  },
  {
   "cell_type": "code",
   "execution_count": 20,
   "metadata": {
    "tags": []
   },
   "outputs": [
    {
     "output_type": "stream",
     "name": "stdout",
     "text": "https://www.strava.com/oauth/authorize?client_id=24067&redirect_uri=http%3A%2F%2Flocalhost%2F&approval_prompt=auto&response_type=code&scope=read%2Cactivity%3Aread\n"
    }
   ],
   "source": [
    "client_id = client_id\n",
    "client_secret = client_secret\n",
    "client = Client()\n",
    "url = client.authorization_url(\n",
    "    client_id=client_id,\n",
    "    redirect_uri='http://localhost/'\n",
    ")\n",
    "print(url)"
   ]
  },
  {
   "cell_type": "code",
   "execution_count": 27,
   "metadata": {
    "tags": []
   },
   "outputs": [
    {
     "output_type": "stream",
     "name": "stdout",
     "text": "Hello, Chase, I know you.\n"
    }
   ],
   "source": [
    "code = '770e873e7c4d33d3cd11947985e514fa1879db2a' \n",
    "access_token = client.exchange_code_for_token(\n",
    "    client_id=client_id,\n",
    "    client_secret=client_secret,\n",
    "    code=code\n",
    ")\n",
    "refresh_token = access_token['access_token']\n",
    "client = Client(access_token=refresh_token)\n",
    "# Test the connection\n",
    "athlete = client.get_athlete()\n",
    "print(f'Hello, {athlete.firstname}, I know you.')"
   ]
  },
  {
   "cell_type": "code",
   "execution_count": 28,
   "metadata": {},
   "outputs": [],
   "source": [
    "rides = pd.DataFrame(\n",
    "    columns=[\n",
    "        'date',\n",
    "        'moving_time',\n",
    "        'activity_id',\n",
    "        'name',\n",
    "        'distance',\n",
    "        'elevation gain',\n",
    "        'type',\n",
    "        'trainer',\n",
    "        'average_speed',\n",
    "        'average_watts',\n",
    "        'suffer_score',\n",
    "        'average_heartrate',\n",
    "        'average_cadence',\n",
    "        'kilojoules',\n",
    "        'gear_id',\n",
    "        'average_temp',\n",
    "        'start_longitude',\n",
    "        'start_latitude'\n",
    "    ]\n",
    ")\n",
    "for activity in client.get_activities(\n",
    "    after=\"2013-12-31T00:00:00Z\",\n",
    "    before=\"2021-01-01T00:00:00Z\"):\n",
    "    if activity.type == \"Ride\":\n",
    "        rides = rides.append(\n",
    "            {\n",
    "                'date': activity.start_date_local.date(),\n",
    "                'activity_id': activity.id, \n",
    "                'moving_time': activity.moving_time,\n",
    "                'name': activity.name, \n",
    "                'distance': round(float(unithelper.miles(activity.distance)), 2),\n",
    "                'elevation gain': float(unithelper.feet(activity.total_elevation_gain)),\n",
    "                'type': activity.type,\n",
    "                'trainer': activity.trainer,\n",
    "                'average_speed': float(unithelper.miles_per_hour(activity.average_speed)),\n",
    "                'average_watts': activity.average_watts,\n",
    "                'suffer_score': activity.suffer_score,\n",
    "                'average_heartrate': activity.average_heartrate,\n",
    "                'average_cadence': activity.average_cadence,\n",
    "                'kilojoules': activity.kilojoules,\n",
    "                'gear_id': activity.gear_id,\n",
    "                'average_temp': activity.average_temp,\n",
    "                'start_longitude': activity.start_longitude,\n",
    "                'start_latitude': activity.start_latitude\n",
    "            }, \n",
    "            ignore_index=True\n",
    "        )"
   ]
  },
  {
   "cell_type": "code",
   "execution_count": 29,
   "metadata": {},
   "outputs": [
    {
     "output_type": "execute_result",
     "data": {
      "text/plain": "         date moving_time activity_id  \\\n0  2020-06-21    00:55:34  3650328303   \n1  2020-06-16    00:20:31  3626733948   \n2  2020-06-13    01:30:00  3609777201   \n3  2020-06-12    00:45:11  3604385266   \n4  2020-06-11    00:47:40  3600545290   \n\n                                                name  distance  \\\n0                                       Morning Ride     13.17   \n1                                             Pettit      5.97   \n2  Junction -1: Every now and then I think to mys...     25.48   \n3                             Mokelumne: fasted ride     15.60   \n4  Avalanche Spire +1: Something is better than n...     15.28   \n\n   elevation gain  type trainer  average_speed average_watts suffer_score  \\\n0      219.816273  Ride   False      14.217967          92.3           19   \n1        0.000000  Ride    True      17.452577         153.7           12   \n2        0.000000  Ride    True      16.987294         161.2          157   \n3        0.000000  Ride    True      20.718504         153.8           65   \n4        0.000000  Ride    True      19.235415         180.6           75   \n\n  average_heartrate average_cadence kilojoules   gear_id average_temp  \\\n0             126.8            76.9      307.8  b4933861           26   \n1             137.2            85.7      189.3  b4933861         None   \n2             159.5            88.8      870.7  b4933861         None   \n3             153.9            90.7        417  b4933861         None   \n4             157.2            86.5      516.4  b4933861         None   \n\n  start_longitude start_latitude  \n0         -104.97          39.74  \n1            None           None  \n2            None           None  \n3            None           None  \n4            None           None  ",
      "text/html": "<div>\n<style scoped>\n    .dataframe tbody tr th:only-of-type {\n        vertical-align: middle;\n    }\n\n    .dataframe tbody tr th {\n        vertical-align: top;\n    }\n\n    .dataframe thead th {\n        text-align: right;\n    }\n</style>\n<table border=\"1\" class=\"dataframe\">\n  <thead>\n    <tr style=\"text-align: right;\">\n      <th></th>\n      <th>date</th>\n      <th>moving_time</th>\n      <th>activity_id</th>\n      <th>name</th>\n      <th>distance</th>\n      <th>elevation gain</th>\n      <th>type</th>\n      <th>trainer</th>\n      <th>average_speed</th>\n      <th>average_watts</th>\n      <th>suffer_score</th>\n      <th>average_heartrate</th>\n      <th>average_cadence</th>\n      <th>kilojoules</th>\n      <th>gear_id</th>\n      <th>average_temp</th>\n      <th>start_longitude</th>\n      <th>start_latitude</th>\n    </tr>\n  </thead>\n  <tbody>\n    <tr>\n      <td>0</td>\n      <td>2020-06-21</td>\n      <td>00:55:34</td>\n      <td>3650328303</td>\n      <td>Morning Ride</td>\n      <td>13.17</td>\n      <td>219.816273</td>\n      <td>Ride</td>\n      <td>False</td>\n      <td>14.217967</td>\n      <td>92.3</td>\n      <td>19</td>\n      <td>126.8</td>\n      <td>76.9</td>\n      <td>307.8</td>\n      <td>b4933861</td>\n      <td>26</td>\n      <td>-104.97</td>\n      <td>39.74</td>\n    </tr>\n    <tr>\n      <td>1</td>\n      <td>2020-06-16</td>\n      <td>00:20:31</td>\n      <td>3626733948</td>\n      <td>Pettit</td>\n      <td>5.97</td>\n      <td>0.000000</td>\n      <td>Ride</td>\n      <td>True</td>\n      <td>17.452577</td>\n      <td>153.7</td>\n      <td>12</td>\n      <td>137.2</td>\n      <td>85.7</td>\n      <td>189.3</td>\n      <td>b4933861</td>\n      <td>None</td>\n      <td>None</td>\n      <td>None</td>\n    </tr>\n    <tr>\n      <td>2</td>\n      <td>2020-06-13</td>\n      <td>01:30:00</td>\n      <td>3609777201</td>\n      <td>Junction -1: Every now and then I think to mys...</td>\n      <td>25.48</td>\n      <td>0.000000</td>\n      <td>Ride</td>\n      <td>True</td>\n      <td>16.987294</td>\n      <td>161.2</td>\n      <td>157</td>\n      <td>159.5</td>\n      <td>88.8</td>\n      <td>870.7</td>\n      <td>b4933861</td>\n      <td>None</td>\n      <td>None</td>\n      <td>None</td>\n    </tr>\n    <tr>\n      <td>3</td>\n      <td>2020-06-12</td>\n      <td>00:45:11</td>\n      <td>3604385266</td>\n      <td>Mokelumne: fasted ride</td>\n      <td>15.60</td>\n      <td>0.000000</td>\n      <td>Ride</td>\n      <td>True</td>\n      <td>20.718504</td>\n      <td>153.8</td>\n      <td>65</td>\n      <td>153.9</td>\n      <td>90.7</td>\n      <td>417</td>\n      <td>b4933861</td>\n      <td>None</td>\n      <td>None</td>\n      <td>None</td>\n    </tr>\n    <tr>\n      <td>4</td>\n      <td>2020-06-11</td>\n      <td>00:47:40</td>\n      <td>3600545290</td>\n      <td>Avalanche Spire +1: Something is better than n...</td>\n      <td>15.28</td>\n      <td>0.000000</td>\n      <td>Ride</td>\n      <td>True</td>\n      <td>19.235415</td>\n      <td>180.6</td>\n      <td>75</td>\n      <td>157.2</td>\n      <td>86.5</td>\n      <td>516.4</td>\n      <td>b4933861</td>\n      <td>None</td>\n      <td>None</td>\n      <td>None</td>\n    </tr>\n  </tbody>\n</table>\n</div>"
     },
     "metadata": {},
     "execution_count": 29
    }
   ],
   "source": [
    "rides.head()"
   ]
  },
  {
   "cell_type": "markdown",
   "metadata": {},
   "source": [
    "## Data Preprocessing"
   ]
  },
  {
   "cell_type": "code",
   "execution_count": 30,
   "metadata": {},
   "outputs": [],
   "source": [
    "rides = rides.apply(lambda x: x.astype(str).str.lower())\n",
    "rides = rides.replace('true',1)\n",
    "rides = rides.replace('false',0)"
   ]
  },
  {
   "cell_type": "code",
   "execution_count": 31,
   "metadata": {},
   "outputs": [
    {
     "output_type": "execute_result",
     "data": {
      "text/plain": "           date                moving_time activity_id  \\\n0    2020-06-21  0 days 00:55:34.000000000  3650328303   \n1    2020-06-16  0 days 00:20:31.000000000  3626733948   \n2    2020-06-13  0 days 01:30:00.000000000  3609777201   \n3    2020-06-12  0 days 00:45:11.000000000  3604385266   \n4    2020-06-11  0 days 00:47:40.000000000  3600545290   \n..          ...                        ...         ...   \n717  2014-03-05  0 days 01:09:29.000000000   118082842   \n718  2014-01-08  0 days 03:38:42.000000000   104930901   \n719  2014-01-07  0 days 02:21:12.000000000   104704896   \n720  2014-01-06  0 days 02:06:05.000000000   104474814   \n721  2014-01-05  0 days 01:14:14.000000000   104287853   \n\n                                                  name distance  \\\n0                                         morning ride    13.17   \n1                                               pettit     5.97   \n2    junction -1: every now and then i think to mys...    25.48   \n3                               mokelumne: fasted ride     15.6   \n4    avalanche spire +1: something is better than n...    15.28   \n..                                                 ...      ...   \n717                                 back in the saddle     11.0   \n718                                      madera canyon    45.55   \n719                                       morning ride     28.2   \n720                                       morning ride    20.24   \n721                                         lunch ride    17.19   \n\n         elevation gain  type  trainer       average_speed average_watts  \\\n0    219.81627296587925  ride        0  14.217967072297782          92.3   \n1                   0.0  ride        1  17.452576950608446         153.7   \n2                   0.0  ride        1  16.987294201861133         161.2   \n3                   0.0  ride        1  20.718503937007874         153.8   \n4                   0.0  ride        1  19.235415175375806         180.6   \n..                  ...   ...      ...                 ...           ...   \n717   298.2283464566929  ride        0   9.498031496062993          59.3   \n718  2792.9790026246715  ride        0  12.495526127415893         102.2   \n719  2025.9186351706035  ride        0  11.983267716535433         117.8   \n720  2527.8871391076113  ride        0   9.634484609878312         139.7   \n721   775.5905511811023  ride        0  13.891374373657838          none   \n\n    suffer_score average_heartrate average_cadence kilojoules   gear_id  \\\n0             19             126.8            76.9      307.8  b4933861   \n1             12             137.2            85.7      189.3  b4933861   \n2            157             159.5            88.8      870.7  b4933861   \n3             65             153.9            90.7      417.0  b4933861   \n4             75             157.2            86.5      516.4  b4933861   \n..           ...               ...             ...        ...       ...   \n717         none              none            none      247.2  b1111681   \n718         none              none            none     1341.6      none   \n719         none              none            none      998.0      none   \n720         none              none            none     1056.7      none   \n721         none              none            none       none      none   \n\n    average_temp start_longitude start_latitude  \n0             26         -104.97          39.74  \n1           none            none           none  \n2           none            none           none  \n3           none            none           none  \n4           none            none           none  \n..           ...             ...            ...  \n717         none         -105.27          40.01  \n718         none         -110.77          31.96  \n719         none         -111.02          32.23  \n720         none         -110.74          32.31  \n721         none         -110.74          32.18  \n\n[722 rows x 18 columns]",
      "text/html": "<div>\n<style scoped>\n    .dataframe tbody tr th:only-of-type {\n        vertical-align: middle;\n    }\n\n    .dataframe tbody tr th {\n        vertical-align: top;\n    }\n\n    .dataframe thead th {\n        text-align: right;\n    }\n</style>\n<table border=\"1\" class=\"dataframe\">\n  <thead>\n    <tr style=\"text-align: right;\">\n      <th></th>\n      <th>date</th>\n      <th>moving_time</th>\n      <th>activity_id</th>\n      <th>name</th>\n      <th>distance</th>\n      <th>elevation gain</th>\n      <th>type</th>\n      <th>trainer</th>\n      <th>average_speed</th>\n      <th>average_watts</th>\n      <th>suffer_score</th>\n      <th>average_heartrate</th>\n      <th>average_cadence</th>\n      <th>kilojoules</th>\n      <th>gear_id</th>\n      <th>average_temp</th>\n      <th>start_longitude</th>\n      <th>start_latitude</th>\n    </tr>\n  </thead>\n  <tbody>\n    <tr>\n      <td>0</td>\n      <td>2020-06-21</td>\n      <td>0 days 00:55:34.000000000</td>\n      <td>3650328303</td>\n      <td>morning ride</td>\n      <td>13.17</td>\n      <td>219.81627296587925</td>\n      <td>ride</td>\n      <td>0</td>\n      <td>14.217967072297782</td>\n      <td>92.3</td>\n      <td>19</td>\n      <td>126.8</td>\n      <td>76.9</td>\n      <td>307.8</td>\n      <td>b4933861</td>\n      <td>26</td>\n      <td>-104.97</td>\n      <td>39.74</td>\n    </tr>\n    <tr>\n      <td>1</td>\n      <td>2020-06-16</td>\n      <td>0 days 00:20:31.000000000</td>\n      <td>3626733948</td>\n      <td>pettit</td>\n      <td>5.97</td>\n      <td>0.0</td>\n      <td>ride</td>\n      <td>1</td>\n      <td>17.452576950608446</td>\n      <td>153.7</td>\n      <td>12</td>\n      <td>137.2</td>\n      <td>85.7</td>\n      <td>189.3</td>\n      <td>b4933861</td>\n      <td>none</td>\n      <td>none</td>\n      <td>none</td>\n    </tr>\n    <tr>\n      <td>2</td>\n      <td>2020-06-13</td>\n      <td>0 days 01:30:00.000000000</td>\n      <td>3609777201</td>\n      <td>junction -1: every now and then i think to mys...</td>\n      <td>25.48</td>\n      <td>0.0</td>\n      <td>ride</td>\n      <td>1</td>\n      <td>16.987294201861133</td>\n      <td>161.2</td>\n      <td>157</td>\n      <td>159.5</td>\n      <td>88.8</td>\n      <td>870.7</td>\n      <td>b4933861</td>\n      <td>none</td>\n      <td>none</td>\n      <td>none</td>\n    </tr>\n    <tr>\n      <td>3</td>\n      <td>2020-06-12</td>\n      <td>0 days 00:45:11.000000000</td>\n      <td>3604385266</td>\n      <td>mokelumne: fasted ride</td>\n      <td>15.6</td>\n      <td>0.0</td>\n      <td>ride</td>\n      <td>1</td>\n      <td>20.718503937007874</td>\n      <td>153.8</td>\n      <td>65</td>\n      <td>153.9</td>\n      <td>90.7</td>\n      <td>417.0</td>\n      <td>b4933861</td>\n      <td>none</td>\n      <td>none</td>\n      <td>none</td>\n    </tr>\n    <tr>\n      <td>4</td>\n      <td>2020-06-11</td>\n      <td>0 days 00:47:40.000000000</td>\n      <td>3600545290</td>\n      <td>avalanche spire +1: something is better than n...</td>\n      <td>15.28</td>\n      <td>0.0</td>\n      <td>ride</td>\n      <td>1</td>\n      <td>19.235415175375806</td>\n      <td>180.6</td>\n      <td>75</td>\n      <td>157.2</td>\n      <td>86.5</td>\n      <td>516.4</td>\n      <td>b4933861</td>\n      <td>none</td>\n      <td>none</td>\n      <td>none</td>\n    </tr>\n    <tr>\n      <td>...</td>\n      <td>...</td>\n      <td>...</td>\n      <td>...</td>\n      <td>...</td>\n      <td>...</td>\n      <td>...</td>\n      <td>...</td>\n      <td>...</td>\n      <td>...</td>\n      <td>...</td>\n      <td>...</td>\n      <td>...</td>\n      <td>...</td>\n      <td>...</td>\n      <td>...</td>\n      <td>...</td>\n      <td>...</td>\n      <td>...</td>\n    </tr>\n    <tr>\n      <td>717</td>\n      <td>2014-03-05</td>\n      <td>0 days 01:09:29.000000000</td>\n      <td>118082842</td>\n      <td>back in the saddle</td>\n      <td>11.0</td>\n      <td>298.2283464566929</td>\n      <td>ride</td>\n      <td>0</td>\n      <td>9.498031496062993</td>\n      <td>59.3</td>\n      <td>none</td>\n      <td>none</td>\n      <td>none</td>\n      <td>247.2</td>\n      <td>b1111681</td>\n      <td>none</td>\n      <td>-105.27</td>\n      <td>40.01</td>\n    </tr>\n    <tr>\n      <td>718</td>\n      <td>2014-01-08</td>\n      <td>0 days 03:38:42.000000000</td>\n      <td>104930901</td>\n      <td>madera canyon</td>\n      <td>45.55</td>\n      <td>2792.9790026246715</td>\n      <td>ride</td>\n      <td>0</td>\n      <td>12.495526127415893</td>\n      <td>102.2</td>\n      <td>none</td>\n      <td>none</td>\n      <td>none</td>\n      <td>1341.6</td>\n      <td>none</td>\n      <td>none</td>\n      <td>-110.77</td>\n      <td>31.96</td>\n    </tr>\n    <tr>\n      <td>719</td>\n      <td>2014-01-07</td>\n      <td>0 days 02:21:12.000000000</td>\n      <td>104704896</td>\n      <td>morning ride</td>\n      <td>28.2</td>\n      <td>2025.9186351706035</td>\n      <td>ride</td>\n      <td>0</td>\n      <td>11.983267716535433</td>\n      <td>117.8</td>\n      <td>none</td>\n      <td>none</td>\n      <td>none</td>\n      <td>998.0</td>\n      <td>none</td>\n      <td>none</td>\n      <td>-111.02</td>\n      <td>32.23</td>\n    </tr>\n    <tr>\n      <td>720</td>\n      <td>2014-01-06</td>\n      <td>0 days 02:06:05.000000000</td>\n      <td>104474814</td>\n      <td>morning ride</td>\n      <td>20.24</td>\n      <td>2527.8871391076113</td>\n      <td>ride</td>\n      <td>0</td>\n      <td>9.634484609878312</td>\n      <td>139.7</td>\n      <td>none</td>\n      <td>none</td>\n      <td>none</td>\n      <td>1056.7</td>\n      <td>none</td>\n      <td>none</td>\n      <td>-110.74</td>\n      <td>32.31</td>\n    </tr>\n    <tr>\n      <td>721</td>\n      <td>2014-01-05</td>\n      <td>0 days 01:14:14.000000000</td>\n      <td>104287853</td>\n      <td>lunch ride</td>\n      <td>17.19</td>\n      <td>775.5905511811023</td>\n      <td>ride</td>\n      <td>0</td>\n      <td>13.891374373657838</td>\n      <td>none</td>\n      <td>none</td>\n      <td>none</td>\n      <td>none</td>\n      <td>none</td>\n      <td>none</td>\n      <td>none</td>\n      <td>-110.74</td>\n      <td>32.18</td>\n    </tr>\n  </tbody>\n</table>\n<p>722 rows × 18 columns</p>\n</div>"
     },
     "metadata": {},
     "execution_count": 31
    }
   ],
   "source": [
    "rides"
   ]
  },
  {
   "cell_type": "code",
   "execution_count": 145,
   "metadata": {},
   "outputs": [],
   "source": [
    "rides = rides[rides['average_heartrate'] != 'none']\n",
    "rides = rides[rides['kilojoules'] != 'none']\n",
    "rides = rides[rides['suffer_score'] != 'none']"
   ]
  },
  {
   "cell_type": "code",
   "execution_count": 146,
   "metadata": {},
   "outputs": [],
   "source": [
    "rides.average_speed = rides.average_speed.astype(float)\n",
    "rides.average_heartrate = rides.average_heartrate.astype(float)\n",
    "rides.kilojoules = rides.kilojoules.astype(float)"
   ]
  },
  {
   "cell_type": "code",
   "execution_count": 147,
   "metadata": {},
   "outputs": [],
   "source": [
    "#xVar = list(['distance','average_speed','average_heartrate'])\n",
    "xVar = list(['distance','average_speed','average_heartrate','kilojoules','elevation gain','suffer_score'])\n",
    "yVar = rides['trainer']\n",
    "df2 = rides[xVar]"
   ]
  },
  {
   "cell_type": "code",
   "execution_count": 148,
   "metadata": {},
   "outputs": [
    {
     "output_type": "execute_result",
     "data": {
      "text/plain": "    distance  average_speed  average_heartrate  kilojoules  \\\n0      13.17      14.217967              126.8       307.8   \n1       5.97      17.452577              137.2       189.3   \n2      25.48      16.987294              159.5       870.7   \n3       15.6      20.718504              153.9       417.0   \n4      15.28      19.235415              157.2       516.4   \n..       ...            ...                ...         ...   \n707    15.04      13.833214              161.5       489.4   \n708    27.15      14.580351              163.6       837.1   \n711    43.49      13.862294              147.2      1303.6   \n712    12.13      13.596099              168.0       366.2   \n715     38.8      11.522459              154.6       101.3   \n\n         elevation gain suffer_score  \n0    219.81627296587925           19  \n1                   0.0           12  \n2                   0.0          157  \n3                   0.0           65  \n4                   0.0           75  \n..                  ...          ...  \n707   872.7034120734908           70  \n708  1364.8293963254594          124  \n711   2398.293963254593          127  \n712   646.3254593175852           72  \n715   5295.275590551181          184  \n\n[603 rows x 6 columns]",
      "text/html": "<div>\n<style scoped>\n    .dataframe tbody tr th:only-of-type {\n        vertical-align: middle;\n    }\n\n    .dataframe tbody tr th {\n        vertical-align: top;\n    }\n\n    .dataframe thead th {\n        text-align: right;\n    }\n</style>\n<table border=\"1\" class=\"dataframe\">\n  <thead>\n    <tr style=\"text-align: right;\">\n      <th></th>\n      <th>distance</th>\n      <th>average_speed</th>\n      <th>average_heartrate</th>\n      <th>kilojoules</th>\n      <th>elevation gain</th>\n      <th>suffer_score</th>\n    </tr>\n  </thead>\n  <tbody>\n    <tr>\n      <td>0</td>\n      <td>13.17</td>\n      <td>14.217967</td>\n      <td>126.8</td>\n      <td>307.8</td>\n      <td>219.81627296587925</td>\n      <td>19</td>\n    </tr>\n    <tr>\n      <td>1</td>\n      <td>5.97</td>\n      <td>17.452577</td>\n      <td>137.2</td>\n      <td>189.3</td>\n      <td>0.0</td>\n      <td>12</td>\n    </tr>\n    <tr>\n      <td>2</td>\n      <td>25.48</td>\n      <td>16.987294</td>\n      <td>159.5</td>\n      <td>870.7</td>\n      <td>0.0</td>\n      <td>157</td>\n    </tr>\n    <tr>\n      <td>3</td>\n      <td>15.6</td>\n      <td>20.718504</td>\n      <td>153.9</td>\n      <td>417.0</td>\n      <td>0.0</td>\n      <td>65</td>\n    </tr>\n    <tr>\n      <td>4</td>\n      <td>15.28</td>\n      <td>19.235415</td>\n      <td>157.2</td>\n      <td>516.4</td>\n      <td>0.0</td>\n      <td>75</td>\n    </tr>\n    <tr>\n      <td>...</td>\n      <td>...</td>\n      <td>...</td>\n      <td>...</td>\n      <td>...</td>\n      <td>...</td>\n      <td>...</td>\n    </tr>\n    <tr>\n      <td>707</td>\n      <td>15.04</td>\n      <td>13.833214</td>\n      <td>161.5</td>\n      <td>489.4</td>\n      <td>872.7034120734908</td>\n      <td>70</td>\n    </tr>\n    <tr>\n      <td>708</td>\n      <td>27.15</td>\n      <td>14.580351</td>\n      <td>163.6</td>\n      <td>837.1</td>\n      <td>1364.8293963254594</td>\n      <td>124</td>\n    </tr>\n    <tr>\n      <td>711</td>\n      <td>43.49</td>\n      <td>13.862294</td>\n      <td>147.2</td>\n      <td>1303.6</td>\n      <td>2398.293963254593</td>\n      <td>127</td>\n    </tr>\n    <tr>\n      <td>712</td>\n      <td>12.13</td>\n      <td>13.596099</td>\n      <td>168.0</td>\n      <td>366.2</td>\n      <td>646.3254593175852</td>\n      <td>72</td>\n    </tr>\n    <tr>\n      <td>715</td>\n      <td>38.8</td>\n      <td>11.522459</td>\n      <td>154.6</td>\n      <td>101.3</td>\n      <td>5295.275590551181</td>\n      <td>184</td>\n    </tr>\n  </tbody>\n</table>\n<p>603 rows × 6 columns</p>\n</div>"
     },
     "metadata": {},
     "execution_count": 148
    }
   ],
   "source": [
    "df2"
   ]
  },
  {
   "cell_type": "code",
   "execution_count": 149,
   "metadata": {},
   "outputs": [
    {
     "output_type": "execute_result",
     "data": {
      "text/plain": "distance              object\naverage_speed        float64\naverage_heartrate    float64\nkilojoules           float64\nelevation gain        object\nsuffer_score          object\ndtype: object"
     },
     "metadata": {},
     "execution_count": 149
    }
   ],
   "source": [
    "df2.dtypes"
   ]
  },
  {
   "cell_type": "code",
   "execution_count": 165,
   "metadata": {
    "tags": []
   },
   "outputs": [
    {
     "output_type": "stream",
     "name": "stdout",
     "text": "(452, 6) (452,)\n(151, 6) (151,)\n"
    }
   ],
   "source": [
    "X_train, X_test, y_train, y_test = train_test_split(df2, yVar, test_size=0.25)\n",
    "print (X_train.shape, y_train.shape)\n",
    "print (X_test.shape, y_test.shape)"
   ]
  },
  {
   "cell_type": "code",
   "execution_count": 166,
   "metadata": {},
   "outputs": [
    {
     "output_type": "execute_result",
     "data": {
      "text/plain": "RandomForestClassifier(bootstrap=True, class_weight=None, criterion='gini',\n                       max_depth=None, max_features='auto', max_leaf_nodes=None,\n                       min_impurity_decrease=0.0, min_impurity_split=1e-07,\n                       min_samples_leaf=1, min_samples_split=2,\n                       min_weight_fraction_leaf=0.0, n_estimators=10, n_jobs=2,\n                       oob_score=False, random_state=0, verbose=0,\n                       warm_start=False)"
     },
     "metadata": {},
     "execution_count": 166
    }
   ],
   "source": [
    "clf = RandomForestClassifier(n_jobs=2, random_state=0)\n",
    "\n",
    "clf.fit(X_train, y_train)\n",
    "RandomForestClassifier(bootstrap=True, class_weight=None, criterion='gini',\n",
    "            max_depth=None, max_features='auto', max_leaf_nodes=None,\n",
    "            min_impurity_split=1e-07, min_samples_leaf=1,\n",
    "            min_samples_split=2, min_weight_fraction_leaf=0.0,\n",
    "            n_estimators=10, n_jobs=2, oob_score=False, random_state=0,\n",
    "            verbose=0, warm_start=False)"
   ]
  },
  {
   "cell_type": "code",
   "execution_count": 167,
   "metadata": {},
   "outputs": [],
   "source": [
    "y_pred = clf.predict(X_test)"
   ]
  },
  {
   "cell_type": "code",
   "execution_count": 168,
   "metadata": {},
   "outputs": [
    {
     "output_type": "execute_result",
     "data": {
      "text/plain": "Predicted Result    0   1\nActual Result            \n0                 113   2\n1                   0  36",
      "text/html": "<div>\n<style scoped>\n    .dataframe tbody tr th:only-of-type {\n        vertical-align: middle;\n    }\n\n    .dataframe tbody tr th {\n        vertical-align: top;\n    }\n\n    .dataframe thead th {\n        text-align: right;\n    }\n</style>\n<table border=\"1\" class=\"dataframe\">\n  <thead>\n    <tr style=\"text-align: right;\">\n      <th>Predicted Result</th>\n      <th>0</th>\n      <th>1</th>\n    </tr>\n    <tr>\n      <th>Actual Result</th>\n      <th></th>\n      <th></th>\n    </tr>\n  </thead>\n  <tbody>\n    <tr>\n      <td>0</td>\n      <td>113</td>\n      <td>2</td>\n    </tr>\n    <tr>\n      <td>1</td>\n      <td>0</td>\n      <td>36</td>\n    </tr>\n  </tbody>\n</table>\n</div>"
     },
     "metadata": {},
     "execution_count": 168
    }
   ],
   "source": [
    "pd.crosstab(y_test, y_pred, rownames=['Actual Result'], colnames=['Predicted Result'])"
   ]
  },
  {
   "cell_type": "code",
   "execution_count": 169,
   "metadata": {
    "tags": []
   },
   "outputs": [
    {
     "output_type": "stream",
     "name": "stdout",
     "text": "[[113   2]\n [  0  36]]\n              precision    recall  f1-score   support\n\n           0       1.00      0.98      0.99       115\n           1       0.95      1.00      0.97        36\n\n    accuracy                           0.99       151\n   macro avg       0.97      0.99      0.98       151\nweighted avg       0.99      0.99      0.99       151\n\n0.9867549668874173\n"
    }
   ],
   "source": [
    "from sklearn.metrics import classification_report, confusion_matrix, accuracy_score\n",
    "\n",
    "print(confusion_matrix(y_test,y_pred))\n",
    "print(classification_report(y_test,y_pred))\n",
    "print(accuracy_score(y_test, y_pred))"
   ]
  },
  {
   "cell_type": "code",
   "execution_count": 170,
   "metadata": {},
   "outputs": [
    {
     "output_type": "execute_result",
     "data": {
      "text/plain": "[('distance', 0.03474913144659668),\n ('average_speed', 0.16767346458410495),\n ('average_heartrate', 0.03026311452466061),\n ('kilojoules', 0.04406090679016659),\n ('elevation gain', 0.7123478769853913),\n ('suffer_score', 0.010905505669079966)]"
     },
     "metadata": {},
     "execution_count": 170
    }
   ],
   "source": [
    "list(zip(X_train, clf.feature_importances_))"
   ]
  },
  {
   "cell_type": "code",
   "execution_count": 172,
   "metadata": {},
   "outputs": [
    {
     "output_type": "execute_result",
     "data": {
      "text/plain": "b1703581    215\nb4933861    186\nb5499491     99\nb3092328     41\nb1315248     32\nb1111681     30\nName: gear_id, dtype: int64"
     },
     "metadata": {},
     "execution_count": 172
    }
   ],
   "source": [
    "rides.gear_id.value_counts()"
   ]
  },
  {
   "cell_type": "code",
   "execution_count": 180,
   "metadata": {},
   "outputs": [],
   "source": [
    "mtb_rides = rides[rides['gear_id'] == 'b3092328']"
   ]
  },
  {
   "cell_type": "code",
   "execution_count": 182,
   "metadata": {},
   "outputs": [],
   "source": [
    "rides['mtb?'] = rides['gear_id'].apply(lambda x: 1 if x == 'b3092328' else 0)"
   ]
  }
 ],
 "metadata": {
  "language_info": {
   "codemirror_mode": {
    "name": "ipython",
    "version": 3
   },
   "file_extension": ".py",
   "mimetype": "text/x-python",
   "name": "python",
   "nbconvert_exporter": "python",
   "pygments_lexer": "ipython3",
   "version": "3.7.4-final"
  },
  "orig_nbformat": 2,
  "kernelspec": {
   "name": "python3",
   "display_name": "Python 3"
  }
 },
 "nbformat": 4,
 "nbformat_minor": 2
}