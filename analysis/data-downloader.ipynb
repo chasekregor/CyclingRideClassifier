{
 "cells": [
  {
   "cell_type": "markdown",
   "metadata": {},
   "source": []
  },
  {
   "cell_type": "markdown",
   "metadata": {},
   "source": [
    "## Data Downloader"
   ]
  },
  {
   "cell_type": "code",
   "execution_count": 1,
   "metadata": {},
   "outputs": [],
   "source": [
    "import pandas as pd\n",
    "import numpy as np\n",
    "from stravalib import unithelper\n",
    "from stravalib import Client"
   ]
  },
  {
   "cell_type": "code",
   "execution_count": 2,
   "metadata": {},
   "outputs": [],
   "source": [
    "#go to strava->settings->My API Application for this information\n",
    "client_id = \n",
    "client_secret = ''"
   ]
  },
  {
   "cell_type": "code",
   "execution_count": 3,
   "metadata": {
    "tags": []
   },
   "outputs": [
    {
     "output_type": "stream",
     "name": "stdout",
     "text": "enter this url into your browser and look for the code in the url, put that as the code variable in the next cell\nhttps://www.strava.com/oauth/authorize?client_id=24067&redirect_uri=http%3A%2F%2Flocalhost%2F&approval_prompt=auto&response_type=code&scope=read%2Cactivity%3Aread\n"
    }
   ],
   "source": [
    "client_id = client_id\n",
    "client_secret = client_secret\n",
    "client = Client()\n",
    "url = client.authorization_url(\n",
    "    client_id=client_id,\n",
    "    redirect_uri='http://localhost/'\n",
    ")\n",
    "print(\"enter this url into your browser and look for the code in the url, put that as the code variable in the next cell\")\n",
    "print(url)"
   ]
  },
  {
   "cell_type": "code",
   "execution_count": 4,
   "metadata": {
    "tags": []
   },
   "outputs": [
    {
     "output_type": "stream",
     "name": "stdout",
     "text": "Hello, Chase, I know you.\n"
    }
   ],
   "source": [
    "code = 'dc485f60bdfa0fa193d8f9cc19066762240113b3' \n",
    "access_token = client.exchange_code_for_token(\n",
    "    client_id=client_id,\n",
    "    client_secret=client_secret,\n",
    "    code=code\n",
    ")\n",
    "refresh_token = access_token['access_token']\n",
    "client = Client(access_token=refresh_token)\n",
    "# Test the connection\n",
    "athlete = client.get_athlete()\n",
    "print(f'Hello, {athlete.firstname}, I know you.')"
   ]
  },
  {
   "cell_type": "code",
   "execution_count": 5,
   "metadata": {},
   "outputs": [],
   "source": [
    "rides = pd.DataFrame(\n",
    "    columns=[\n",
    "        'date',\n",
    "        'moving_time',\n",
    "        'activity_id',\n",
    "        'name',\n",
    "        'distance',\n",
    "        'elevation gain',\n",
    "        'type',\n",
    "        'trainer',\n",
    "        'average_speed',\n",
    "        'average_watts',\n",
    "        'suffer_score',\n",
    "        'average_heartrate',\n",
    "        'average_cadence',\n",
    "        'kilojoules',\n",
    "        'gear_id',\n",
    "        'average_temp',\n",
    "        'start_longitude',\n",
    "        'start_latitude',\n",
    "        'device_watts'\n",
    "    ]\n",
    ")\n",
    "for activity in client.get_activities(\n",
    "    after=\"2013-12-31T00:00:00Z\",\n",
    "    before=\"2021-01-01T00:00:00Z\"):\n",
    "    if activity.type == \"Ride\":\n",
    "        rides = rides.append(\n",
    "            {\n",
    "                'date': activity.start_date_local.date(),\n",
    "                'activity_id': activity.id, \n",
    "                'moving_time': activity.moving_time,\n",
    "                'name': activity.name, \n",
    "                'distance': round(float(unithelper.miles(activity.distance)), 2),\n",
    "                'elevation gain': float(unithelper.feet(activity.total_elevation_gain)),\n",
    "                'type': activity.type,\n",
    "                'trainer': activity.trainer,\n",
    "                'average_speed': float(unithelper.miles_per_hour(activity.average_speed)),\n",
    "                'average_watts': activity.average_watts,\n",
    "                'suffer_score': activity.suffer_score,\n",
    "                'average_heartrate': activity.average_heartrate,\n",
    "                'average_cadence': activity.average_cadence,\n",
    "                'kilojoules': activity.kilojoules,\n",
    "                'gear_id': activity.gear_id,\n",
    "                'average_temp': activity.average_temp,\n",
    "                'start_longitude': activity.start_longitude,\n",
    "                'start_latitude': activity.start_latitude,\n",
    "                'device_watts': activity.device_watts\n",
    "            }, \n",
    "            ignore_index=True\n",
    "        )"
   ]
  },
  {
   "cell_type": "code",
   "execution_count": 6,
   "metadata": {},
   "outputs": [
    {
     "output_type": "execute_result",
     "data": {
      "text/plain": "         date moving_time activity_id  \\\n0  2020-07-09    01:00:42  3736531260   \n1  2020-07-06    00:20:01  3724400147   \n2  2020-06-21    00:55:34  3650328303   \n3  2020-06-16    00:20:31  3626733948   \n4  2020-06-13    01:30:00  3609777201   \n\n                                                name  distance  \\\n0           Group Workout: Ebbetts +2 w Dad & Hunter     18.24   \n1                                          Ramp Test      5.66   \n2                                       Morning Ride     13.17   \n3                                             Pettit      5.97   \n4  Junction -1: Every now and then I think to mys...     25.48   \n\n   elevation gain  type trainer  average_speed average_watts suffer_score  \\\n0        0.000000  Ride    True      18.025233         154.6           72   \n1        0.000000  Ride    True      16.953740         175.2           25   \n2      219.816273  Ride   False      14.217967          92.3           19   \n3        0.000000  Ride    True      17.452577         153.7           12   \n4        0.000000  Ride    True      16.987294         161.2          157   \n\n  average_heartrate average_cadence kilojoules   gear_id average_temp  \\\n0             151.2            87.9        563  b4933861         None   \n1             151.5            83.1      210.4  b4933861         None   \n2             126.8            76.9      307.8  b4933861           26   \n3             137.2            85.7      189.3  b4933861         None   \n4             159.5            88.8      870.7  b4933861         None   \n\n  start_longitude start_latitude device_watts  \n0            None           None         True  \n1            None           None         True  \n2         -104.97          39.74         True  \n3            None           None         True  \n4            None           None         True  ",
      "text/html": "<div>\n<style scoped>\n    .dataframe tbody tr th:only-of-type {\n        vertical-align: middle;\n    }\n\n    .dataframe tbody tr th {\n        vertical-align: top;\n    }\n\n    .dataframe thead th {\n        text-align: right;\n    }\n</style>\n<table border=\"1\" class=\"dataframe\">\n  <thead>\n    <tr style=\"text-align: right;\">\n      <th></th>\n      <th>date</th>\n      <th>moving_time</th>\n      <th>activity_id</th>\n      <th>name</th>\n      <th>distance</th>\n      <th>elevation gain</th>\n      <th>type</th>\n      <th>trainer</th>\n      <th>average_speed</th>\n      <th>average_watts</th>\n      <th>suffer_score</th>\n      <th>average_heartrate</th>\n      <th>average_cadence</th>\n      <th>kilojoules</th>\n      <th>gear_id</th>\n      <th>average_temp</th>\n      <th>start_longitude</th>\n      <th>start_latitude</th>\n      <th>device_watts</th>\n    </tr>\n  </thead>\n  <tbody>\n    <tr>\n      <td>0</td>\n      <td>2020-07-09</td>\n      <td>01:00:42</td>\n      <td>3736531260</td>\n      <td>Group Workout: Ebbetts +2 w Dad &amp; Hunter</td>\n      <td>18.24</td>\n      <td>0.000000</td>\n      <td>Ride</td>\n      <td>True</td>\n      <td>18.025233</td>\n      <td>154.6</td>\n      <td>72</td>\n      <td>151.2</td>\n      <td>87.9</td>\n      <td>563</td>\n      <td>b4933861</td>\n      <td>None</td>\n      <td>None</td>\n      <td>None</td>\n      <td>True</td>\n    </tr>\n    <tr>\n      <td>1</td>\n      <td>2020-07-06</td>\n      <td>00:20:01</td>\n      <td>3724400147</td>\n      <td>Ramp Test</td>\n      <td>5.66</td>\n      <td>0.000000</td>\n      <td>Ride</td>\n      <td>True</td>\n      <td>16.953740</td>\n      <td>175.2</td>\n      <td>25</td>\n      <td>151.5</td>\n      <td>83.1</td>\n      <td>210.4</td>\n      <td>b4933861</td>\n      <td>None</td>\n      <td>None</td>\n      <td>None</td>\n      <td>True</td>\n    </tr>\n    <tr>\n      <td>2</td>\n      <td>2020-06-21</td>\n      <td>00:55:34</td>\n      <td>3650328303</td>\n      <td>Morning Ride</td>\n      <td>13.17</td>\n      <td>219.816273</td>\n      <td>Ride</td>\n      <td>False</td>\n      <td>14.217967</td>\n      <td>92.3</td>\n      <td>19</td>\n      <td>126.8</td>\n      <td>76.9</td>\n      <td>307.8</td>\n      <td>b4933861</td>\n      <td>26</td>\n      <td>-104.97</td>\n      <td>39.74</td>\n      <td>True</td>\n    </tr>\n    <tr>\n      <td>3</td>\n      <td>2020-06-16</td>\n      <td>00:20:31</td>\n      <td>3626733948</td>\n      <td>Pettit</td>\n      <td>5.97</td>\n      <td>0.000000</td>\n      <td>Ride</td>\n      <td>True</td>\n      <td>17.452577</td>\n      <td>153.7</td>\n      <td>12</td>\n      <td>137.2</td>\n      <td>85.7</td>\n      <td>189.3</td>\n      <td>b4933861</td>\n      <td>None</td>\n      <td>None</td>\n      <td>None</td>\n      <td>True</td>\n    </tr>\n    <tr>\n      <td>4</td>\n      <td>2020-06-13</td>\n      <td>01:30:00</td>\n      <td>3609777201</td>\n      <td>Junction -1: Every now and then I think to mys...</td>\n      <td>25.48</td>\n      <td>0.000000</td>\n      <td>Ride</td>\n      <td>True</td>\n      <td>16.987294</td>\n      <td>161.2</td>\n      <td>157</td>\n      <td>159.5</td>\n      <td>88.8</td>\n      <td>870.7</td>\n      <td>b4933861</td>\n      <td>None</td>\n      <td>None</td>\n      <td>None</td>\n      <td>True</td>\n    </tr>\n  </tbody>\n</table>\n</div>"
     },
     "metadata": {},
     "execution_count": 6
    }
   ],
   "source": [
    "rides.head()"
   ]
  },
  {
   "cell_type": "code",
   "execution_count": 7,
   "metadata": {},
   "outputs": [],
   "source": [
    "#change the file path \n",
    "rides.to_csv(r'/Users/chasekregor/GitHub/2020/CyclingRideClassifier/data/rides.csv', index = False)"
   ]
  }
 ],
 "metadata": {
  "language_info": {
   "codemirror_mode": {
    "name": "ipython",
    "version": 3
   },
   "file_extension": ".py",
   "mimetype": "text/x-python",
   "name": "python",
   "nbconvert_exporter": "python",
   "pygments_lexer": "ipython3",
   "version": "3.7.3-final"
  },
  "orig_nbformat": 2,
  "kernelspec": {
   "name": "python3",
   "display_name": "Python 3"
  }
 },
 "nbformat": 4,
 "nbformat_minor": 2
}